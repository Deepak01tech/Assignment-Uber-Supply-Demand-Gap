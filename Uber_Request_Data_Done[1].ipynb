{
 "cells": [
  {
   "cell_type": "code",
   "execution_count": 23,
   "id": "dc8e3868",
   "metadata": {},
   "outputs": [],
   "source": [
    "import numpy as np\n",
    "import pandas as pd\n",
    "import matplotlib.pyplot as plt\n",
    "import seaborn as sns\n",
    "import datetime as dt"
   ]
  },
  {
   "cell_type": "code",
   "execution_count": 3,
   "id": "cc366fe4",
   "metadata": {},
   "outputs": [
    {
     "data": {
      "text/html": [
       "<div>\n",
       "<style scoped>\n",
       "    .dataframe tbody tr th:only-of-type {\n",
       "        vertical-align: middle;\n",
       "    }\n",
       "\n",
       "    .dataframe tbody tr th {\n",
       "        vertical-align: top;\n",
       "    }\n",
       "\n",
       "    .dataframe thead th {\n",
       "        text-align: right;\n",
       "    }\n",
       "</style>\n",
       "<table border=\"1\" class=\"dataframe\">\n",
       "  <thead>\n",
       "    <tr style=\"text-align: right;\">\n",
       "      <th></th>\n",
       "      <th>Request id</th>\n",
       "      <th>Pickup point</th>\n",
       "      <th>Driver id</th>\n",
       "      <th>Status</th>\n",
       "      <th>Request timestamp</th>\n",
       "      <th>Drop timestamp</th>\n",
       "    </tr>\n",
       "  </thead>\n",
       "  <tbody>\n",
       "    <tr>\n",
       "      <th>0</th>\n",
       "      <td>619</td>\n",
       "      <td>Airport</td>\n",
       "      <td>1.0</td>\n",
       "      <td>Trip Completed</td>\n",
       "      <td>11/7/2016 11:51</td>\n",
       "      <td>11/7/2016 13:00</td>\n",
       "    </tr>\n",
       "    <tr>\n",
       "      <th>1</th>\n",
       "      <td>867</td>\n",
       "      <td>Airport</td>\n",
       "      <td>1.0</td>\n",
       "      <td>Trip Completed</td>\n",
       "      <td>11/7/2016 17:57</td>\n",
       "      <td>11/7/2016 18:47</td>\n",
       "    </tr>\n",
       "    <tr>\n",
       "      <th>2</th>\n",
       "      <td>1807</td>\n",
       "      <td>City</td>\n",
       "      <td>1.0</td>\n",
       "      <td>Trip Completed</td>\n",
       "      <td>12/7/2016 9:17</td>\n",
       "      <td>12/7/2016 9:58</td>\n",
       "    </tr>\n",
       "    <tr>\n",
       "      <th>3</th>\n",
       "      <td>2532</td>\n",
       "      <td>Airport</td>\n",
       "      <td>1.0</td>\n",
       "      <td>Trip Completed</td>\n",
       "      <td>12/7/2016 21:08</td>\n",
       "      <td>12/7/2016 22:03</td>\n",
       "    </tr>\n",
       "    <tr>\n",
       "      <th>4</th>\n",
       "      <td>3112</td>\n",
       "      <td>City</td>\n",
       "      <td>1.0</td>\n",
       "      <td>Trip Completed</td>\n",
       "      <td>13-07-2016 08:33:16</td>\n",
       "      <td>13-07-2016 09:25:47</td>\n",
       "    </tr>\n",
       "  </tbody>\n",
       "</table>\n",
       "</div>"
      ],
      "text/plain": [
       "   Request id Pickup point  Driver id          Status    Request timestamp  \\\n",
       "0         619      Airport        1.0  Trip Completed      11/7/2016 11:51   \n",
       "1         867      Airport        1.0  Trip Completed      11/7/2016 17:57   \n",
       "2        1807         City        1.0  Trip Completed       12/7/2016 9:17   \n",
       "3        2532      Airport        1.0  Trip Completed      12/7/2016 21:08   \n",
       "4        3112         City        1.0  Trip Completed  13-07-2016 08:33:16   \n",
       "\n",
       "        Drop timestamp  \n",
       "0      11/7/2016 13:00  \n",
       "1      11/7/2016 18:47  \n",
       "2       12/7/2016 9:58  \n",
       "3      12/7/2016 22:03  \n",
       "4  13-07-2016 09:25:47  "
      ]
     },
     "execution_count": 3,
     "metadata": {},
     "output_type": "execute_result"
    }
   ],
   "source": [
    "df=pd.read_csv(\"Uber Request Data.csv\")\n",
    "df.head()"
   ]
  },
  {
   "cell_type": "markdown",
   "id": "f4797aa7",
   "metadata": {},
   "source": [
    "# Data Cleaning"
   ]
  },
  {
   "cell_type": "code",
   "execution_count": 4,
   "id": "21f97d38",
   "metadata": {},
   "outputs": [
    {
     "data": {
      "text/html": [
       "<div>\n",
       "<style scoped>\n",
       "    .dataframe tbody tr th:only-of-type {\n",
       "        vertical-align: middle;\n",
       "    }\n",
       "\n",
       "    .dataframe tbody tr th {\n",
       "        vertical-align: top;\n",
       "    }\n",
       "\n",
       "    .dataframe thead th {\n",
       "        text-align: right;\n",
       "    }\n",
       "</style>\n",
       "<table border=\"1\" class=\"dataframe\">\n",
       "  <thead>\n",
       "    <tr style=\"text-align: right;\">\n",
       "      <th></th>\n",
       "      <th>Request id</th>\n",
       "      <th>Pickup point</th>\n",
       "      <th>Driver id</th>\n",
       "      <th>Status</th>\n",
       "      <th>Request timestamp</th>\n",
       "      <th>Drop timestamp</th>\n",
       "    </tr>\n",
       "  </thead>\n",
       "  <tbody>\n",
       "    <tr>\n",
       "      <th>0</th>\n",
       "      <td>619</td>\n",
       "      <td>Airport</td>\n",
       "      <td>1.0</td>\n",
       "      <td>Trip Completed</td>\n",
       "      <td>2016-11-07 11:51:00</td>\n",
       "      <td>2016-11-07 13:00:00</td>\n",
       "    </tr>\n",
       "    <tr>\n",
       "      <th>1</th>\n",
       "      <td>867</td>\n",
       "      <td>Airport</td>\n",
       "      <td>1.0</td>\n",
       "      <td>Trip Completed</td>\n",
       "      <td>2016-11-07 17:57:00</td>\n",
       "      <td>2016-11-07 18:47:00</td>\n",
       "    </tr>\n",
       "    <tr>\n",
       "      <th>2</th>\n",
       "      <td>1807</td>\n",
       "      <td>City</td>\n",
       "      <td>1.0</td>\n",
       "      <td>Trip Completed</td>\n",
       "      <td>2016-12-07 09:17:00</td>\n",
       "      <td>2016-12-07 09:58:00</td>\n",
       "    </tr>\n",
       "    <tr>\n",
       "      <th>3</th>\n",
       "      <td>2532</td>\n",
       "      <td>Airport</td>\n",
       "      <td>1.0</td>\n",
       "      <td>Trip Completed</td>\n",
       "      <td>2016-12-07 21:08:00</td>\n",
       "      <td>2016-12-07 22:03:00</td>\n",
       "    </tr>\n",
       "    <tr>\n",
       "      <th>4</th>\n",
       "      <td>3112</td>\n",
       "      <td>City</td>\n",
       "      <td>1.0</td>\n",
       "      <td>Trip Completed</td>\n",
       "      <td>2016-07-13 08:33:16</td>\n",
       "      <td>2016-07-13 09:25:47</td>\n",
       "    </tr>\n",
       "  </tbody>\n",
       "</table>\n",
       "</div>"
      ],
      "text/plain": [
       "   Request id Pickup point  Driver id          Status   Request timestamp  \\\n",
       "0         619      Airport        1.0  Trip Completed 2016-11-07 11:51:00   \n",
       "1         867      Airport        1.0  Trip Completed 2016-11-07 17:57:00   \n",
       "2        1807         City        1.0  Trip Completed 2016-12-07 09:17:00   \n",
       "3        2532      Airport        1.0  Trip Completed 2016-12-07 21:08:00   \n",
       "4        3112         City        1.0  Trip Completed 2016-07-13 08:33:16   \n",
       "\n",
       "       Drop timestamp  \n",
       "0 2016-11-07 13:00:00  \n",
       "1 2016-11-07 18:47:00  \n",
       "2 2016-12-07 09:58:00  \n",
       "3 2016-12-07 22:03:00  \n",
       "4 2016-07-13 09:25:47  "
      ]
     },
     "execution_count": 4,
     "metadata": {},
     "output_type": "execute_result"
    }
   ],
   "source": [
    "df['Request timestamp'] = pd.to_datetime(df['Request timestamp'])\n",
    "df['Drop timestamp'] = pd.to_datetime(df['Drop timestamp'])\n",
    "df.head()"
   ]
  },
  {
   "cell_type": "code",
   "execution_count": 11,
   "id": "c22cf254",
   "metadata": {},
   "outputs": [
    {
     "data": {
      "text/html": [
       "<div>\n",
       "<style scoped>\n",
       "    .dataframe tbody tr th:only-of-type {\n",
       "        vertical-align: middle;\n",
       "    }\n",
       "\n",
       "    .dataframe tbody tr th {\n",
       "        vertical-align: top;\n",
       "    }\n",
       "\n",
       "    .dataframe thead th {\n",
       "        text-align: right;\n",
       "    }\n",
       "</style>\n",
       "<table border=\"1\" class=\"dataframe\">\n",
       "  <thead>\n",
       "    <tr style=\"text-align: right;\">\n",
       "      <th></th>\n",
       "      <th>request_id</th>\n",
       "      <th>pickup_point</th>\n",
       "      <th>status</th>\n",
       "      <th>request_timestamp</th>\n",
       "      <th>drop_timestamp</th>\n",
       "    </tr>\n",
       "  </thead>\n",
       "  <tbody>\n",
       "    <tr>\n",
       "      <th>0</th>\n",
       "      <td>619</td>\n",
       "      <td>Airport</td>\n",
       "      <td>Trip Completed</td>\n",
       "      <td>2016-11-07 11:51:00</td>\n",
       "      <td>2016-11-07 13:00:00</td>\n",
       "    </tr>\n",
       "    <tr>\n",
       "      <th>1</th>\n",
       "      <td>867</td>\n",
       "      <td>Airport</td>\n",
       "      <td>Trip Completed</td>\n",
       "      <td>2016-11-07 17:57:00</td>\n",
       "      <td>2016-11-07 18:47:00</td>\n",
       "    </tr>\n",
       "    <tr>\n",
       "      <th>2</th>\n",
       "      <td>1807</td>\n",
       "      <td>City</td>\n",
       "      <td>Trip Completed</td>\n",
       "      <td>2016-12-07 09:17:00</td>\n",
       "      <td>2016-12-07 09:58:00</td>\n",
       "    </tr>\n",
       "    <tr>\n",
       "      <th>3</th>\n",
       "      <td>2532</td>\n",
       "      <td>Airport</td>\n",
       "      <td>Trip Completed</td>\n",
       "      <td>2016-12-07 21:08:00</td>\n",
       "      <td>2016-12-07 22:03:00</td>\n",
       "    </tr>\n",
       "    <tr>\n",
       "      <th>4</th>\n",
       "      <td>3112</td>\n",
       "      <td>City</td>\n",
       "      <td>Trip Completed</td>\n",
       "      <td>2016-07-13 08:33:16</td>\n",
       "      <td>2016-07-13 09:25:47</td>\n",
       "    </tr>\n",
       "  </tbody>\n",
       "</table>\n",
       "</div>"
      ],
      "text/plain": [
       "   request_id pickup_point          status   request_timestamp  \\\n",
       "0         619      Airport  Trip Completed 2016-11-07 11:51:00   \n",
       "1         867      Airport  Trip Completed 2016-11-07 17:57:00   \n",
       "2        1807         City  Trip Completed 2016-12-07 09:17:00   \n",
       "3        2532      Airport  Trip Completed 2016-12-07 21:08:00   \n",
       "4        3112         City  Trip Completed 2016-07-13 08:33:16   \n",
       "\n",
       "       drop_timestamp  \n",
       "0 2016-11-07 13:00:00  \n",
       "1 2016-11-07 18:47:00  \n",
       "2 2016-12-07 09:58:00  \n",
       "3 2016-12-07 22:03:00  \n",
       "4 2016-07-13 09:25:47  "
      ]
     },
     "execution_count": 11,
     "metadata": {},
     "output_type": "execute_result"
    }
   ],
   "source": [
    "col_names = [col.lower().replace(' ', '_') for col in df.columns]\n",
    "df.columns=col_names\n",
    "df.head()"
   ]
  },
  {
   "cell_type": "code",
   "execution_count": 13,
   "id": "4bdf7ffc",
   "metadata": {},
   "outputs": [
    {
     "name": "stdout",
     "output_type": "stream",
     "text": [
      "<class 'pandas.core.frame.DataFrame'>\n",
      "RangeIndex: 6745 entries, 0 to 6744\n",
      "Data columns (total 5 columns):\n",
      " #   Column             Non-Null Count  Dtype         \n",
      "---  ------             --------------  -----         \n",
      " 0   request_id         6745 non-null   int64         \n",
      " 1   pickup_point       6745 non-null   object        \n",
      " 2   status             6745 non-null   object        \n",
      " 3   request_timestamp  6745 non-null   datetime64[ns]\n",
      " 4   drop_timestamp     2831 non-null   datetime64[ns]\n",
      "dtypes: datetime64[ns](2), int64(1), object(2)\n",
      "memory usage: 263.6+ KB\n"
     ]
    }
   ],
   "source": [
    "df.info()"
   ]
  },
  {
   "cell_type": "code",
   "execution_count": 14,
   "id": "13d242f9",
   "metadata": {},
   "outputs": [
    {
     "data": {
      "text/plain": [
       "status\n",
       "Cancelled            1264\n",
       "No Cars Available    2650\n",
       "dtype: int64"
      ]
     },
     "execution_count": 14,
     "metadata": {},
     "output_type": "execute_result"
    }
   ],
   "source": [
    "df[(df['drop_timestamp'].isnull())].groupby('status').size()"
   ]
  },
  {
   "cell_type": "markdown",
   "id": "07622fdd",
   "metadata": {},
   "source": [
    "# Visual Analysis"
   ]
  },
  {
   "cell_type": "code",
   "execution_count": 19,
   "id": "720bfcf6",
   "metadata": {},
   "outputs": [
    {
     "data": {
      "text/plain": [
       "<AxesSubplot:xlabel='status'>"
      ]
     },
     "execution_count": 19,
     "metadata": {},
     "output_type": "execute_result"
    },
    {
     "data": {
      "image/png": "[encoded data removed]",
      "text/plain": [
       "<Figure size 432x288 with 1 Axes>"
      ]
     },
     "metadata": {
      "needs_background": "light"
     },
     "output_type": "display_data"
    }
   ],
   "source": [
    "#Visual Analysis on the status column\n",
    "status=pd.crosstab(index=df[\"status\"],columns=\"count\")\n",
    "status.plot.bar()"
   ]
  },
  {
   "cell_type": "markdown",
   "id": "7b60d7f7",
   "metadata": {},
   "source": [
    "#### The above chart shows that No cars Available scenario is occured less than Trip Completed scenario."
   ]
  },
  {
   "cell_type": "code",
   "execution_count": 20,
   "id": "65070e5d",
   "metadata": {},
   "outputs": [
    {
     "data": {
      "text/plain": [
       "<AxesSubplot:xlabel='pickup_point'>"
      ]
     },
     "execution_count": 20,
     "metadata": {},
     "output_type": "execute_result"
    },
    {
     "data": {
      "image/png": "[encoded data removed]",
      "text/plain": [
       "<Figure size 432x288 with 1 Axes>"
      ]
     },
     "metadata": {
      "needs_background": "light"
     },
     "output_type": "display_data"
    }
   ],
   "source": [
    "#Visual Analysis on the Pickup Point column\n",
    "pp=pd.crosstab(index=df['pickup_point'],columns='count')\n",
    "pp.plot.bar()"
   ]
  },
  {
   "cell_type": "markdown",
   "id": "bad6df07",
   "metadata": {},
   "source": [
    "#### The pickup points Airport and City are present equal times in the dataset."
   ]
  },
  {
   "cell_type": "code",
   "execution_count": 21,
   "id": "bc377566",
   "metadata": {},
   "outputs": [
    {
     "data": {
      "text/plain": [
       "status             pickup_point\n",
       "Cancelled          Airport          198\n",
       "                   City            1066\n",
       "No Cars Available  Airport         1713\n",
       "                   City             937\n",
       "Trip Completed     Airport         1327\n",
       "                   City            1504\n",
       "dtype: int64"
      ]
     },
     "execution_count": 21,
     "metadata": {},
     "output_type": "execute_result"
    }
   ],
   "source": [
    "df.groupby(['status','pickup_point']).size()"
   ]
  },
  {
   "cell_type": "code",
   "execution_count": 24,
   "id": "2dc821f1",
   "metadata": {},
   "outputs": [
    {
     "data": {
      "text/plain": [
       "<AxesSubplot:xlabel='pickup_point', ylabel='count'>"
      ]
     },
     "execution_count": 24,
     "metadata": {},
     "output_type": "execute_result"
    },
    {
     "data": {
      "image/png": "[encoded data removed]",
      "text/plain": [
       "<Figure size 432x288 with 1 Axes>"
      ]
     },
     "metadata": {
      "needs_background": "light"
     },
     "output_type": "display_data"
    }
   ],
   "source": [
    "sns.countplot(x=df['pickup_point'],hue=df['status'],data=df)"
   ]
  },
  {
   "cell_type": "markdown",
   "id": "9dc59782",
   "metadata": {},
   "source": [
    "#### More number of No cars available from Airport to city and also more cars are cancelled from city to airport."
   ]
  },
  {
   "cell_type": "code",
   "execution_count": 30,
   "id": "f0caad83",
   "metadata": {},
   "outputs": [],
   "source": [
    "df['Request_Hour'] = df['request_timestamp'].dt.hour"
   ]
  },
  {
   "cell_type": "code",
   "execution_count": 37,
   "id": "900d7ebb",
   "metadata": {},
   "outputs": [],
   "source": [
    "#Time Slots\n",
    "df['Request Time Slot'] = 'Early Morning'\n",
    "df.loc[df['Request_Hour'].between(5,8, inclusive='both'),'Request Time Slot'] = 'Morning'\n",
    "df.loc[df['Request_Hour'].between(9,12, inclusive='both'),'Request Time Slot'] = 'Late Morning'\n",
    "df.loc[df['Request_Hour'].between(13,16, inclusive='both'),'Request Time Slot'] = 'Noon'\n",
    "df.loc[df['Request_Hour'].between(17,21, inclusive='both'),'Request Time Slot'] = 'Evening'\n",
    "df.loc[df['Request_Hour'].between(21,24, inclusive='both'),'Request Time Slot'] = 'Night'"
   ]
  },
  {
   "cell_type": "code",
   "execution_count": 38,
   "id": "402f88a5",
   "metadata": {},
   "outputs": [],
   "source": [
    "df['Demand']=1"
   ]
  },
  {
   "cell_type": "code",
   "execution_count": 39,
   "id": "e8a7fae5",
   "metadata": {},
   "outputs": [],
   "source": [
    "df['supply']=0\n",
    "df.loc[(df['status']=='Trip Completed'),'supply']=1"
   ]
  },
  {
   "cell_type": "code",
   "execution_count": 41,
   "id": "d5ad3826",
   "metadata": {},
   "outputs": [],
   "source": [
    "df['Gap'] = df['Demand'] - df['supply']\n",
    "df.loc[df['Gap']==0,'Gap'] = 'Trip Completed'\n",
    "df.loc[df['Gap']==1,'Gap'] = 'Trip Not Completed'"
   ]
  },
  {
   "cell_type": "code",
   "execution_count": 42,
   "id": "5133907f",
   "metadata": {},
   "outputs": [],
   "source": [
    "df = df.drop(['Request Hour', 'Demand', 'supply'], axis=1)"
   ]
  },
  {
   "cell_type": "code",
   "execution_count": 43,
   "id": "f3e0fb57",
   "metadata": {},
   "outputs": [
    {
     "data": {
      "text/html": [
       "<div>\n",
       "<style scoped>\n",
       "    .dataframe tbody tr th:only-of-type {\n",
       "        vertical-align: middle;\n",
       "    }\n",
       "\n",
       "    .dataframe tbody tr th {\n",
       "        vertical-align: top;\n",
       "    }\n",
       "\n",
       "    .dataframe thead th {\n",
       "        text-align: right;\n",
       "    }\n",
       "</style>\n",
       "<table border=\"1\" class=\"dataframe\">\n",
       "  <thead>\n",
       "    <tr style=\"text-align: right;\">\n",
       "      <th></th>\n",
       "      <th>request_id</th>\n",
       "      <th>pickup_point</th>\n",
       "      <th>status</th>\n",
       "      <th>request_timestamp</th>\n",
       "      <th>drop_timestamp</th>\n",
       "      <th>Request Time Slot</th>\n",
       "      <th>Request_Hour</th>\n",
       "      <th>Gap</th>\n",
       "    </tr>\n",
       "  </thead>\n",
       "  <tbody>\n",
       "    <tr>\n",
       "      <th>0</th>\n",
       "      <td>619</td>\n",
       "      <td>Airport</td>\n",
       "      <td>Trip Completed</td>\n",
       "      <td>2016-11-07 11:51:00</td>\n",
       "      <td>2016-11-07 13:00:00</td>\n",
       "      <td>Late Morning</td>\n",
       "      <td>11</td>\n",
       "      <td>Trip Completed</td>\n",
       "    </tr>\n",
       "    <tr>\n",
       "      <th>1</th>\n",
       "      <td>867</td>\n",
       "      <td>Airport</td>\n",
       "      <td>Trip Completed</td>\n",
       "      <td>2016-11-07 17:57:00</td>\n",
       "      <td>2016-11-07 18:47:00</td>\n",
       "      <td>Evening</td>\n",
       "      <td>17</td>\n",
       "      <td>Trip Completed</td>\n",
       "    </tr>\n",
       "    <tr>\n",
       "      <th>2</th>\n",
       "      <td>1807</td>\n",
       "      <td>City</td>\n",
       "      <td>Trip Completed</td>\n",
       "      <td>2016-12-07 09:17:00</td>\n",
       "      <td>2016-12-07 09:58:00</td>\n",
       "      <td>Late Morning</td>\n",
       "      <td>9</td>\n",
       "      <td>Trip Completed</td>\n",
       "    </tr>\n",
       "    <tr>\n",
       "      <th>3</th>\n",
       "      <td>2532</td>\n",
       "      <td>Airport</td>\n",
       "      <td>Trip Completed</td>\n",
       "      <td>2016-12-07 21:08:00</td>\n",
       "      <td>2016-12-07 22:03:00</td>\n",
       "      <td>Night</td>\n",
       "      <td>21</td>\n",
       "      <td>Trip Completed</td>\n",
       "    </tr>\n",
       "    <tr>\n",
       "      <th>4</th>\n",
       "      <td>3112</td>\n",
       "      <td>City</td>\n",
       "      <td>Trip Completed</td>\n",
       "      <td>2016-07-13 08:33:16</td>\n",
       "      <td>2016-07-13 09:25:47</td>\n",
       "      <td>Morning</td>\n",
       "      <td>8</td>\n",
       "      <td>Trip Completed</td>\n",
       "    </tr>\n",
       "  </tbody>\n",
       "</table>\n",
       "</div>"
      ],
      "text/plain": [
       "   request_id pickup_point          status   request_timestamp  \\\n",
       "0         619      Airport  Trip Completed 2016-11-07 11:51:00   \n",
       "1         867      Airport  Trip Completed 2016-11-07 17:57:00   \n",
       "2        1807         City  Trip Completed 2016-12-07 09:17:00   \n",
       "3        2532      Airport  Trip Completed 2016-12-07 21:08:00   \n",
       "4        3112         City  Trip Completed 2016-07-13 08:33:16   \n",
       "\n",
       "       drop_timestamp Request Time Slot  Request_Hour             Gap  \n",
       "0 2016-11-07 13:00:00      Late Morning            11  Trip Completed  \n",
       "1 2016-11-07 18:47:00           Evening            17  Trip Completed  \n",
       "2 2016-12-07 09:58:00      Late Morning             9  Trip Completed  \n",
       "3 2016-12-07 22:03:00             Night            21  Trip Completed  \n",
       "4 2016-07-13 09:25:47           Morning             8  Trip Completed  "
      ]
     },
     "execution_count": 43,
     "metadata": {},
     "output_type": "execute_result"
    }
   ],
   "source": [
    "df.head()"
   ]
  },
  {
   "cell_type": "code",
   "execution_count": 44,
   "id": "c961f9b6",
   "metadata": {},
   "outputs": [
    {
     "data": {
      "text/plain": [
       "<AxesSubplot:xlabel='Request Time Slot', ylabel='count'>"
      ]
     },
     "execution_count": 44,
     "metadata": {},
     "output_type": "execute_result"
    },
    {
     "data": {
      "image/png": "[encoded data removed]",
      "text/plain": [
       "<Figure size 432x288 with 1 Axes>"
      ]
     },
     "metadata": {
      "needs_background": "light"
     },
     "output_type": "display_data"
    }
   ],
   "source": [
    "sns.countplot(x=df['Request Time Slot'],hue=df['status'],data=df)"
   ]
  },
  {
   "cell_type": "markdown",
   "id": "2fcb210d",
   "metadata": {},
   "source": [
    "#### The Number of Cars not available is more in the evening.Most trips that are cancelled are in the Morning."
   ]
  },
  {
   "cell_type": "code",
   "execution_count": 46,
   "id": "4d92c44b",
   "metadata": {},
   "outputs": [
    {
     "data": {
      "text/plain": [
       "<AxesSubplot:xlabel='pickup_point,Request Time Slot'>"
      ]
     },
     "execution_count": 46,
     "metadata": {},
     "output_type": "execute_result"
    },
    {
     "data": {
      "image/png": "[encoded data removed]",
      "text/plain": [
       "<Figure size 432x288 with 1 Axes>"
      ]
     },
     "metadata": {
      "needs_background": "light"
     },
     "output_type": "display_data"
    }
   ],
   "source": [
    "pickup_df=pd.DataFrame(df.groupby(['pickup_point','Request Time Slot','status'])['request_id'].count().unstack(fill_value=0))\n",
    "pickup_df.plot.bar()"
   ]
  },
  {
   "cell_type": "markdown",
   "id": "52ab75ef",
   "metadata": {},
   "source": [
    "#### No cars available is more in the Evening From airport to city.Most cancelled trips are from city to airport in the morning."
   ]
  },
  {
   "cell_type": "code",
   "execution_count": 47,
   "id": "5907b963",
   "metadata": {},
   "outputs": [
    {
     "data": {
      "text/plain": [
       "<AxesSubplot:xlabel='Gap', ylabel='count'>"
      ]
     },
     "execution_count": 47,
     "metadata": {},
     "output_type": "execute_result"
    },
    {
     "data": {
      "image/png": "[encoded data removed]",
      "text/plain": [
       "<Figure size 432x288 with 1 Axes>"
      ]
     },
     "metadata": {
      "needs_background": "light"
     },
     "output_type": "display_data"
    }
   ],
   "source": [
    "sns.countplot(x=df['Gap'],data=df)"
   ]
  },
  {
   "cell_type": "markdown",
   "id": "83cb8084",
   "metadata": {},
   "source": [
    "#### Number of Trip completed is less than number of trips not completed."
   ]
  },
  {
   "cell_type": "code",
   "execution_count": 49,
   "id": "497ecf37",
   "metadata": {},
   "outputs": [
    {
     "data": {
      "text/plain": [
       "<AxesSubplot:xlabel='Request Time Slot'>"
      ]
     },
     "execution_count": 49,
     "metadata": {},
     "output_type": "execute_result"
    },
    {
     "data": {
      "image/png": "[encoded data removed]",
      "text/plain": [
       "<Figure size 432x288 with 1 Axes>"
      ]
     },
     "metadata": {
      "needs_background": "light"
     },
     "output_type": "display_data"
    }
   ],
   "source": [
    "gap_timeslot=pd.DataFrame(df.groupby(['Request Time Slot','Gap'])['request_id'].count().unstack(fill_value=0))\n",
    "gap_timeslot.plot.bar()"
   ]
  },
  {
   "cell_type": "markdown",
   "id": "85c1c326",
   "metadata": {},
   "source": [
    "#### Number of Trip Not completed in the Evening is the Highest in a single day."
   ]
  },
  {
   "cell_type": "markdown",
   "id": "43c1c112",
   "metadata": {},
   "source": [
    "#### Conclusions:\n",
    "1)For bridging the demand supply gap from airport to city, making a permanent stand in the airport itself where the cabs will be available at all times and the incomplete requests can come down significantly.\n",
    "\n",
    "2)Uber can provide some incentives to the driver who complete the trip from city to airport in the morning part. This might result the driver to not cancel the request from city to airport trips.\n",
    "\n",
    "3)Last but sure solution to bring down the gap is to increase the numbers of cab in its fleet."
   ]
  },
  {
   "cell_type": "code",
   "execution_count": null,
   "id": "4e707543",
   "metadata": {},
   "outputs": [],
   "source": []
  }
 ],
 "metadata": {
  "kernelspec": {
   "display_name": "Python 3 (ipykernel)",
   "language": "python",
   "name": "python3"
  },
  "language_info": {
   "codemirror_mode": {
    "name": "ipython",
    "version": 3
   },
   "file_extension": ".py",
   "mimetype": "text/x-python",
   "name": "python",
   "nbconvert_exporter": "python",
   "pygments_lexer": "ipython3",
   "version": "3.9.7"
  }
 },
 "nbformat": 4,
 "nbformat_minor": 5
}
